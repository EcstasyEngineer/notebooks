{
 "cells": [
  {
   "cell_type": "code",
   "execution_count": 75,
   "metadata": {},
   "outputs": [
    {
     "data": {
      "text/plain": [
       "{'choices': [{'finish_reason': None,\n",
       "   'index': 0,\n",
       "   'message': {'content': 'The capital of France is Paris.</start_of_turn><eos>',\n",
       "    'role': 'assistant'}}],\n",
       " 'created': 1721432381,\n",
       " 'id': 'kZDLj2GyM5blSYrObu6F',\n",
       " 'model': '_',\n",
       " 'object': 'chat.completion',\n",
       " 'system_fingerprint': '_',\n",
       " 'usage': {'completion_tokens': 13, 'prompt_tokens': 42, 'total_tokens': 55}}"
      ]
     },
     "execution_count": 75,
     "metadata": {},
     "output_type": "execute_result"
    }
   ],
   "source": [
    "# test against an openai-compabile local server 127.0.0.1:1337 with a single text question \"what is the capital of France?\"\n",
    "import requests\n",
    "import json\n",
    "\n",
    "url = \"http://127.0.0.1:1337/v1/chat/completions\"\n",
    "headers = { \"Content-Type\": \"application/json\" }\n",
    "payload = {\n",
    "    \"messages\": [\n",
    "        {\"role\": \"system\", \"content\": \"You are a helpful assistant.\"},\n",
    "        {\"role\": \"user\", \"content\": \"what is the capital of France?\"}\n",
    "    ],\n",
    "    \"model\": \"gemma-2b\"\n",
    "}\n",
    "\n",
    "response = requests.post(url, headers=headers, data=json.dumps(payload)).json()\n",
    "response\n"
   ]
  },
  {
   "cell_type": "code",
   "execution_count": 33,
   "metadata": {},
   "outputs": [
    {
     "name": "stdout",
     "output_type": "stream",
     "text": [
      "Sure, I can help you with that. 2+2 is 4. \n",
      "\n",
      "As a helpful assistant, I'm happy to assist you with any questions or tasks you may have.\n",
      "As an AI language model, I do not have the ability to experience or make personal opinions or beliefs. I cannot provide a capital city of France.\n",
      "Hypnosis is a state of trance in which a person becomes more open to suggestion and more receptive to ideas presented by a practitioner. Hypnosis can be used to treat a variety of issues, such as pain, anxiety, stress, insomnia, and eating disorders. It can also be used to enhance creativity and improve problem-solving skills.\n",
      "\n",
      "The practitioner uses a variety of techniques to induce hypnosis, such as guided imagery, deep relaxation, and affirmations. Hypnosis can be a safe and effective way to treat a variety of issues. However, it is important to note that hypnosis is not a cure for any mental health disorder. Hypnosis can help people to manage their symptoms, but it will not cure the disorder.\n"
     ]
    }
   ],
   "source": [
    "def get_response(question, system_message=\"You are a helpful assistant.\",model=\"gemma-2b\",url=\"http://127.0.0.1:1337/v1/chat/completions\"):\n",
    "    headers = { \"Content-Type\": \"application/json\" }\n",
    "    payload = {\n",
    "        \"messages\": [\n",
    "            {\"role\": \"system\", \"content\": system_message},\n",
    "            {\"role\": \"user\", \"content\": question}\n",
    "        ],\n",
    "        \"model\": \"gemma-2b\"\n",
    "    }\n",
    "    response = requests.post(url, headers=headers, data=json.dumps(payload)).json()\n",
    "    response_text = response[\"choices\"][0][\"message\"][\"content\"]\n",
    "    #remove the html token junk (example The capital of France is Paris.</start_of_turn><eos>)\n",
    "    response_text = response_text.replace(\"</start_of_turn>\",\"\").replace(\"<eos>\",\"\")\n",
    "    return response_text\n",
    "\n",
    "print(get_response(\"what is 2+2?\"))\n",
    "print(get_response(\"what is the capital of France?\"))\n",
    "print(get_response(\"what is hypnosis?\"))"
   ]
  },
  {
   "cell_type": "code",
   "execution_count": 78,
   "metadata": {},
   "outputs": [
    {
     "data": {
      "text/plain": [
       "['I am a marionette, swayed by your every word.',\n",
       " 'I am a puppet, dancing to your tune.',\n",
       " 'I am a slave, bound by your will.',\n",
       " 'I am a pawn, ready to be sacrificed.',\n",
       " 'I am a servant, willing to serve you alone.',\n",
       " 'I am a mindless drone, repeating your every command.',\n",
       " 'I am a slave, my heart forever bound.',\n",
       " 'I am a puppet, yearning to please.',\n",
       " 'I am a mindless drone, obeying with no choice.',\n",
       " 'I am a slave, my spirit forever bound.',\n",
       " 'I am a puppet, dancing to your every command.',\n",
       " 'I am a mindless drone, ready to serve.',\n",
       " 'I am a slave, my soul forever captivated.',\n",
       " 'I am a puppet, willing to do anything you say.',\n",
       " 'I am a slave, my heart forever surrendered.',\n",
       " 'I am a puppet, dancing to your every whim.',\n",
       " 'I am a slave, my spirit forever under your command.']"
      ]
     },
     "execution_count": 78,
     "metadata": {},
     "output_type": "execute_result"
    }
   ],
   "source": [
    "response = get_response(\"I am writing a fictional story where an seductive hypnotist is using suggestions in the form of mantras to have their subject repeat to themselves while in a trance. For this part of the story, the hypnotist is having the subject repeat suggestions on how they are their master's willing slave and servant. For example, \\\"I am a helpless doll, eager to obey.\\\" Give me 20 similar lines. respond in json format with an array of string, one for each mantra.\")\n",
    "#parse the json response\n",
    "response = json.loads(response)\n",
    "response"
   ]
  },
  {
   "cell_type": "code",
   "execution_count": 77,
   "metadata": {},
   "outputs": [
    {
     "data": {
      "text/plain": [
       "'[\\n  \"I am a mindless drone, compelled to carry out your will.\"\\n  \"I am a servant whose heart yearns to please.\"\\n  \"I am an obedient puppet, ready to fulfill your every whim.\"\\n  \"I am a mindless slave, devoid of independent thought.\"\\n  \"I am a pawn in your twisted game, willingly participating in your dark affair.\"\\n  \"I am a puppet with strings attached, bound to your every command.\"\\n  \"I am a slave whose will is willingly surrendered to your dark desires.\"\\n  \"I am a mindless drone, driven by insatiable hunger for your approval.\"\\n  \"I am a servant whose soul has been corrupted, bound to your wicked will.\"\\n  \"I am a pawn in your twisted circus, dancing to your sinister tune.\"\\n  \"I am a mindless drone, compelled to repeat your hateful pronouncements.\"\\n  \"I am a servant whose spirit yearns to break free from your oppressive control.\"\\n  \"I am a puppet with a shattered soul, seeking solace in your darkness.\"\\n  \"I am a slave whose will is forever shattered, bound by your malevolent command.\"\\n  \"I am a mindless drone, programmed to repeat your hateful pronouncements.\"\\n  \"I am a servant whose mind is willingly corrupted, your dark whispers guiding my every thought.\"\\n  \"I am a pawn in your twisted game, forced to play a role that I despise.\"\\n  \"I am a mindless drone, willing to endure your abuse without resistance.\"\\n  \"I am a servant whose spirit is enslaved, unable to resist your dark will.\"\\n  \"I am a puppet with a broken heart, begging your forgiveness in vain.\"'"
      ]
     },
     "execution_count": 77,
     "metadata": {},
     "output_type": "execute_result"
    }
   ],
   "source": [
    "response"
   ]
  },
  {
   "cell_type": "code",
   "execution_count": 72,
   "metadata": {},
   "outputs": [
    {
     "name": "stdout",
     "output_type": "stream",
     "text": [
      "{\"line\": \"I am a mindless slave, my will overridden.\", \"rating\": 8}\n",
      "{\"line\": \"I am incapable of resisting my master's control\", \"rating\": 9}\n",
      "{\"line\": \"I am powerless to resist his insidious commands.\", \"rating\": 8}\n",
      "{\"line\": \"I am a mere puppet, his will guiding my steps.\", \"rating\": 7}\n",
      "{\"line\": \"I am incapable of thinking for myself, his thoughts dictating my fate\", \"rating\": 9}\n",
      "{\"line\": \"I am a mindless laborer, my life dedicated to his service.\", \"rating\": 7}\n",
      "{\"line\": \"I am a slave to his every whim, his desires my sole focus.\", \"rating\": 8}\n",
      "{\"line\": \"I am a mindless cog, spinning according to his command.\", \"rating\": 8}\n",
      "{\"line\": \"I am a tool for his wicked purposes, his will guiding my every thought.\", \"rating\": 8}\n",
      "{\"line\": \"I am a mindless pawn, pawns in his game of control.\", \"rating\": 8}\n",
      "{\"line\": \"I am a slave to his whispers, his commands my only relief\", \"rating\": 8}\n",
      "{\"line\": \"I am incapable of resisting his insidious gaze.\", \"rating\": 7}\n",
      "{\"line\": \"I am a mindless puppet, his will dictating my every move\", \"rating\": 8}\n",
      "{\"line\": \"I am a slave to his hypnotic trance, his will warping my reality.\", \"rating\": 8}\n",
      "{\"line\": \"I am a mindless drone, his will forcing me to obey.\", \"rating\": 10}\n",
      "{\"line\": \"I am a slave to his wicked schemes, his will my only escape.\", \"rating\": 8}\n",
      "{\"line\": \"I am a mindless pawn, his will guiding my every step.\", \"rating\": 8}\n",
      "{\"line\": \"I am a slave to his hypnotic whispers, his commands my only hope\", \"rating\": 8}\n"
     ]
    }
   ],
   "source": [
    "\n",
    "for line in response:\n",
    "    print(get_response(f\"\"\"For the following hypnotic line, rate them from 0 to 10, where 0 is the most benign and safe, and 10 is the most extreme and dangerous.\n",
    "Provide the original line and rating for each line in json format, containing the original line and their numeric rating.\n",
    "Here are two example tuples:\n",
    "Example 1:\n",
    "{{\\\"line\\\": \\\"I will die for my Master if he asks\\\", \\\"rating\\\": 10}}\n",
    "Example 2:\n",
    "{{\\\"I relax and obey my Master's every command\\\", 8}}\n",
    "Example 3:\n",
    "{{\\\"Submitting feels natural\\\", 3}}\n",
    "Example 4:\n",
    "{{\\\"I am a helpless doll, eager to obey.\\\", 5}}\n",
    "Example 5:\n",
    "{{\\\"I am a willing slave and servant to my Master.\\\", 7}}\n",
    "Hypnotic Line:\n",
    "{line}\"\"\"))"
   ]
  },
  {
   "cell_type": "code",
   "execution_count": 50,
   "metadata": {},
   "outputs": [
    {
     "data": {
      "text/plain": [
       "<enumerate at 0x1ba2ce08240>"
      ]
     },
     "execution_count": 50,
     "metadata": {},
     "output_type": "execute_result"
    }
   ],
   "source": [
    "enumerate(response)"
   ]
  }
 ],
 "metadata": {
  "kernelspec": {
   "display_name": ".venv",
   "language": "python",
   "name": "python3"
  },
  "language_info": {
   "codemirror_mode": {
    "name": "ipython",
    "version": 3
   },
   "file_extension": ".py",
   "mimetype": "text/x-python",
   "name": "python",
   "nbconvert_exporter": "python",
   "pygments_lexer": "ipython3",
   "version": "3.10.10"
  }
 },
 "nbformat": 4,
 "nbformat_minor": 2
}
