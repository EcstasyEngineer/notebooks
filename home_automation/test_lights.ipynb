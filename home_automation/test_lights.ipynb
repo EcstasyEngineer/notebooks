{
 "cells": [
  {
   "cell_type": "code",
   "execution_count": 21,
   "metadata": {},
   "outputs": [],
   "source": [
    "from phue import Bridge\n",
    "import random\n",
    "import time\n",
    "\n",
    "# Replace 'BRIDGE_IP' with your actual Hue Bridge IP address\n",
    "bridge_ip = '192.168.0.239'\n",
    "bridge = Bridge(bridge_ip)\n",
    "\n",
    "# Connect to the bridge\n",
    "bridge.connect()"
   ]
  },
  {
   "cell_type": "code",
   "execution_count": 4,
   "metadata": {},
   "outputs": [],
   "source": [
    "# Get the lights\n",
    "lights = bridge.lights"
   ]
  },
  {
   "cell_type": "code",
   "execution_count": 6,
   "metadata": {},
   "outputs": [
    {
     "data": {
      "text/plain": [
       "'Bed Light 1'"
      ]
     },
     "execution_count": 6,
     "metadata": {},
     "output_type": "execute_result"
    }
   ],
   "source": [
    "lights[0].name"
   ]
  },
  {
   "cell_type": "code",
   "execution_count": 42,
   "metadata": {},
   "outputs": [],
   "source": [
    "\n",
    "# Function to flash lights\n",
    "def flash_lights(flash_times, delay):\n",
    "    for light in lights:\n",
    "        light.on = True\n",
    "    for _ in range(flash_times):\n",
    "        for light in lights:\n",
    "            if \"bed\" in light.name.lower():\n",
    "                random_hue = random.randint(0, 65535)\n",
    "                random_sat = random.randint(100, 254)\n",
    "                light.on = not light.on\n",
    "                if light.on:\n",
    "                    light.brightness = 254\n",
    "                    light.hue = random_hue\n",
    "                    light.saturation = random_sat\n",
    "        time.sleep(delay)\n",
    "\n",
    "# Flash the lights 10 times with 0.1 second delay\n",
    "flash_lights(flash_times=20, delay=2)"
   ]
  },
  {
   "cell_type": "code",
   "execution_count": 37,
   "metadata": {},
   "outputs": [],
   "source": [
    "lights[0].on=True\n",
    "lights[0].brightness=254\n",
    "lights[0].hue=50000\n",
    "lights[0].saturation=254"
   ]
  }
 ],
 "metadata": {
  "kernelspec": {
   "display_name": "Python 3",
   "language": "python",
   "name": "python3"
  },
  "language_info": {
   "codemirror_mode": {
    "name": "ipython",
    "version": 3
   },
   "file_extension": ".py",
   "mimetype": "text/x-python",
   "name": "python",
   "nbconvert_exporter": "python",
   "pygments_lexer": "ipython3",
   "version": "3.10.10"
  }
 },
 "nbformat": 4,
 "nbformat_minor": 2
}
