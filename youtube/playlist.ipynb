{
 "cells": [
  {
   "cell_type": "code",
   "execution_count": 2,
   "metadata": {},
   "outputs": [
    {
     "name": "stderr",
     "output_type": "stream",
     "text": [
      "'sh' is not recognized as an internal or external command,\n",
      "operable program or batch file.\n"
     ]
    }
   ],
   "source": [
    "!sh yt-dlp --cookies cookies.txt --flat-playlist --dump-json \"https://www.youtube.com/playlist?list=WL\"  > playlist.json"
   ]
  },
  {
   "cell_type": "code",
   "execution_count": 1,
   "metadata": {},
   "outputs": [
    {
     "name": "stdout",
     "output_type": "stream",
     "text": [
      "Title: 【SUPER MARIO MAKER 2】 Kirin plays impossible Mario levels to try to get good in 2 days (Day 1), Duration: 4:51:49\n",
      "Title: How the Flight Controller Code Works - dRehmFlight VTOL, Duration: 0:20:18\n",
      "Title: Transformer Neural Networks Derived from Scratch, Duration: 0:18:8\n",
      "Title: My simple note-taking setup | Zettelkasten in Obsidian | Step-by-step guide, Duration: 0:16:32\n",
      "Title: Self-study computational neuroscience | Coding, Textbooks, Math, Duration: 0:21:3\n",
      "Title: Educational Nurse Roleplay: Gentle Vitamin Feeding & Health Overview, Duration: 2:48:47\n",
      "Title: An ACTUAL ASMR Livestream?! [probably whispering] [hypnosis] [mommy] [going down to tingletown], Duration: 2:29:25\n",
      "Title: 東方 【Alstroemeria Records】 ~DECADE OF EXPOSE~ full album, Duration: 0:42:54\n",
      "Title: Harvard Psychiatrist on How To Get Ahead of 99.9% of People (Starting NOW), Duration: 2:46:2\n",
      "Title: Every Bias Explained in 8 Minutes, Duration: 0:8:10\n",
      "Title: LEVELS (Basic Version), Duration: 0:26:59\n",
      "Title: Why Chasing Red Flags Leads To Love, Duration: 0:12:47\n",
      "Title: Why Being Lonely Is An Advantage, Duration: 0:22:2\n",
      "Title: everything is open source if you can reverse engineer (try it RIGHT NOW!), Duration: 0:13:56\n",
      "Title: Gaming, Gamedev, and Mental Health w/ Thor from @PirateSoftware, Duration: 3:3:37\n",
      "Title: 【DEBUT 2.0】BACK SO SOON? 😉【PRISMProject | Lana Shikami】, Duration: 1:34:58\n",
      "Title: A Very Serious Hypnosis 101 (with powerpoint)【PRISMProject | Lana Shikami】, Duration: 1:16:31\n",
      "Title: a very serious hypnosis powerpoint [educational?] [probably not whispering] [hypnosis], Duration: 2:18:56\n",
      "Title: I woke up early, just for you...【Chatting】, Duration: 2:42:43\n",
      "Title: 【Just Chatting】Time to Ponder the Orbs【PRISMProject | Lana Shikami】, Duration: 1:49:56\n",
      "Title: Every Marketing Trick Explained in 10 Minutes, Duration: 0:10:10\n",
      "Title: 5 Useful F-String Tricks In Python, Duration: 0:10:2\n",
      "Title: Steerable AI with Pinecone + Semantic Router, Duration: 0:11:31\n",
      "Title: 【東方Piano】 Sleeping in Bhavaagra ~ Wonderful Dream 「Marasy」, Duration: 0:5:34\n",
      "Title: Total Recall - re:View, Duration: 0:52:48\n",
      "Title: Half in the Bag: The Matrix Resurrections, Duration: 0:54:54\n",
      "Title: Half in the Bag: The Suicide Squad, Duration: 0:45:57\n",
      "Title: Half in the Bag: The Black Phone, Duration: 0:31:28\n",
      "Title: INSANE Chef Serves FLOOR SOUP to his CUSTOMERS - Jerma Streams Cooking Simulator (Long Edit #1), Duration: 3:6:10\n",
      "Title: Hypnose 46# Challenge Cosplay 1#. Japan Manga Family Lausanne. 10.12.2022, Duration: 0:25:39\n",
      "Title: Saplings really love it when Fauna starts Yapping | 『Hololive』, Duration: 0:6:15\n",
      "Title: 【VR STREAM】Wawa's Eggciting Speggtacle 2024! Who will be the Eggspert of 2024? #kfp #キアライブ, Duration: 1:44:52\n",
      "Title: This BPM is trash, and here's why, Duration: 0:19:59\n",
      "Title: Does Music Have a Speed Limit? And Why?, Duration: 0:34:29\n",
      "Title: minecraft_monday.wmv, Duration: 0:58:52\n",
      "Title: EMDR Therapy Demonstration: Phases 1-8, Duration: 0:58:50\n",
      "Title: Öwnboss, Sevek - Move Your Body (Razihel Extended Remix), Duration: 0:3:7\n",
      "Title: Why does every DAW use the wrong crossfades?, Duration: 0:5:2\n",
      "Title: Attention in transformers, visually explained | Chapter 6, Deep Learning, Duration: 0:26:10\n",
      "Title: Extracting Cadmium from a NiCd Battery, Duration: 0:27:5\n",
      "Title: Udio, the Mysterious GPT Update, and Infinite Attention, Duration: 0:14:8\n",
      "Title: \"Havana Syndrome\" stumps investigators as U.S. officials report injuries on White House grounds, Duration: 0:27:52\n",
      "Title: Havana Syndrome evidence suggests who may be responsible for mysterious brain injuries, Duration: 0:26:51\n",
      "Title: But what is a GPT?  Visual intro to transformers | Chapter 5, Deep Learning, Duration: 0:27:14\n",
      "Title: 【東方Trance】After Today「ないとびゅー・れこーず」, Duration: 0:7:54\n",
      "Title: What is Ego | Dr.K Explains, Duration: 0:34:1\n",
      "Title: How To Hypnotize Someone (Inductions 101) [Educational] [Hypnokink] [Vtuber], Duration: 2:35:30\n",
      "Title: 【Zatsudan】Movie Talk: FNAF, The Nun 2, & A Haunting in Venice, Duration: 2:14:5\n",
      "Title: \"VoT\" Gives LLMs Spacial Reasoning AND Open-Source \"Large Action Model\", Duration: 0:16:26\n",
      "Title: Confusion Hypnosis for Resistant Subjects (The Mystifying Induction: Revisited), Duration: 0:10:21\n",
      "Title: 【PROMISE HALF ANNIVERSARY】 Forcing #holoPromise to play in my dungeon + ANNOUNCEMENTS & REVEALS, Duration: 2:4:18\n",
      "Title: The Mystery of The Architects & The Horror of Un-Space | Shards of Earth, Duration: 0:31:11\n",
      "Title: Vedal & Neuro Build A Language Model From Scratch, Duration: 0:26:53\n",
      "Title: The Complete Riifu Evergreen Experience, Duration: 0:46:4\n",
      "Title: Incompetent Unaccountable Mismanagement of the Constellation Frigate, Duration: 0:28:15\n",
      "Title: 【RATE MY MEMES】Showing you my favorite zoomer tiktoks【VAllure】, Duration: 2:7:18\n",
      "Title: RIP ANIMATORS! Animate ANYTHING With AI IN 1-CLICK!, Duration: 0:8:48\n",
      "Title: Shondo moments that live in my head rent free, Duration: 0:8:9\n",
      "Title: Hypnotized to Release Stuck Lamias ft @TheSecretSubject [Lamia ASMR Audio Hypnosis Roleplay], Duration: 0:26:31\n",
      "Title: Accidentally going to a CBT session⁉ [Latex ASMR Intense Roleplay Upclose Soft Spoken], Duration: 0:18:53\n",
      "Title: VAllure debuts but it's just Memes, Duration: 0:39:41\n",
      "Title: 【Bunny Garden】Bunny Girl's Galore!【VAllure】, Duration: 4:5:0\n",
      "Title: 【MONETIZATION CELEBRATION】I've been steamrolled to celebrate!【VAllure】, Duration: 3:14:46\n",
      "Title: 【Advice】Give me your troubles, and I'll make them worse!【VAllure】, Duration: 3:23:48\n",
      "Title: Seven Nekos Pamper + Headpat You (ASMR Tingle Variety + 3dio Whispers), Duration: 0:22:15\n",
      "Title: Platonically Pampered to Perfection by Ganyu (ASMR Audio Roleplay), Duration: 0:36:18\n",
      "Title: Clinical Analysis - Codependent Mother Daughter Role Play, Duration: 0:27:15\n",
      "Title: What is Q-Learning (back to basics), Duration: 0:45:44\n",
      "Title: Beyond A*: Better Planning with Transformers via Search Dynamics Bootstrapping (Searchformer), Duration: 0:44:5\n",
      "Title: Every Hole is a Goal Ft. Projekt Melody - Ep. 58, Duration: 1:22:27\n",
      "Title: VRChat Haptic Nipple Warfare, Duration: 0:4:2\n",
      "Title: Kitsune Goddesses Pamper You Relentlessly ft. @memoriaasmr  (Audio Roleplay ASMR), Duration: 0:25:35\n",
      "Title: 𝗚𝘂𝗿𝗮, 𝗙𝗮𝘂𝗻𝗮, 𝗠𝘂𝗺𝗲𝗶 𝗮𝗻𝗱 𝗞𝗿𝗼𝗻𝗶𝗶 𝘄𝗶𝗹𝗹 𝗱𝗼 𝗮𝗻𝘆𝘁𝗵𝗶𝗻𝗴 𝗳𝗼𝗿 𝗰𝗼𝗻𝘁𝗲𝗻𝘁 |Hololive|, Duration: 0:34:52\n",
      "Title: 【GEOGUESSR】doko duo, Duration: 3:24:29\n",
      "Title: 【MONETIZATION CELEBRATION】Doodling Superchats + Handcam 🐐🍼【VAllure】, Duration: 2:40:32\n",
      "Title: Betelgeuse looks a lot stranger than we thought, and physics shouldn't allow it, Duration: 0:13:52\n",
      "Title: The Seven Tingles Of Hell | ASMR Tingle Variety & Ear To Ear Whispering, Duration: 0:20:6\n",
      "Title: MINECRAFTING w/ @PipkinPippa, Duration: 1:40:18\n",
      "Title: 【Class of '09】The typical American Highschool Experience 🪢🐇【VAllure】, Duration: 3:20:8\n",
      "Title: 【Class of '09】GUERILLA ! The typical American Highschool Experience (take 2!)【VAllure】, Duration: 2:1:17\n",
      "Title: Twin Cat Girls Clean Your Ears ~ ♡ w/@KaifuLulu [Deredere & Tsundere], Duration: 0:15:24\n",
      "Title: Neuroscience & YouTube | Artem Kirsanov Interview, Duration: 2:25:43\n"
     ]
    }
   ],
   "source": [
    "import json\n",
    "\n",
    "# Load the JSON file\n",
    "with open('playlist.json', 'r') as file:\n",
    "    videos = [json.loads(line) for line in file]\n",
    "\n",
    "# Extract and print relevant information\n",
    "for video in videos:\n",
    "    title = video['title']\n",
    "    duration = video['duration']  # Duration in seconds\n",
    "    if duration is None:\n",
    "        continue\n",
    "    duration_str = f\"{duration // 3600}:{(duration % 3600) // 60}:{duration % 60}\"\n",
    "    print(f\"Title: {title}, Duration: {duration_str}\")"
   ]
  }
 ],
 "metadata": {
  "kernelspec": {
   "display_name": ".venv",
   "language": "python",
   "name": "python3"
  },
  "language_info": {
   "codemirror_mode": {
    "name": "ipython",
    "version": 3
   },
   "file_extension": ".py",
   "mimetype": "text/x-python",
   "name": "python",
   "nbconvert_exporter": "python",
   "pygments_lexer": "ipython3",
   "version": "3.10.10"
  }
 },
 "nbformat": 4,
 "nbformat_minor": 2
}
