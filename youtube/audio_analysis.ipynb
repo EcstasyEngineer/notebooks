{
 "cells": [
  {
   "cell_type": "markdown",
   "metadata": {},
   "source": [
    "sounds:\n",
    "\tpiss breaks\n",
    "\tscreams\n",
    "\tlaughs\n",
    "\tburp\n",
    "\ttonal shifts in voice\n",
    "\n",
    "transitions between:\n",
    "\twhispering and talking\n",
    "\tleft and right\n",
    "\tbinaurals on and off\n",
    "\n",
    "changes in speed for voice (rants)\n",
    "changes in rate for chat\n",
    "changes in rate for thread\n",
    "\t"
   ]
  }
 ],
 "metadata": {
  "language_info": {
   "name": "python"
  }
 },
 "nbformat": 4,
 "nbformat_minor": 2
}
