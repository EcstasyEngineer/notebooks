{
 "cells": [
  {
   "cell_type": "code",
   "execution_count": 3,
   "metadata": {},
   "outputs": [],
   "source": [
    "import os\n",
    "import re\n",
    "import subprocess\n",
    "\n",
    "\n",
    "# name of channel to be scanned\n",
    "channel_prefix = \"https://www.youtube.com/\"\n",
    "channel = \"@StronnyCuttles\"\n",
    "\n",
    "os.mkdir(channel)\n",
    "os.mkdir(f\"{channel}/downloaded\")\n",
    "os.mkdir(f\"{channel}/processed\")\n",
    "os.mkdir(f\"{channel}/transcripts\")\n",
    "\n",
    "\n",
    "# file containing keywords\n",
    "keywords_file = \"keywords.txt\"\n",
    "\n",
    "# file containing thematic searches\n",
    "thematic_file = \"thematic.txt\"\n",
    "\n",
    "downloaded = []\n",
    "downloaded_file = f\"downloaded_{channel}.txt\"\n",
    "if os.path.exists(downloaded_file):\n",
    "    with open(downloaded_file, \"r\") as f:\n",
    "        downloaded = f.read().splitlines()\n",
    "else:\n",
    "    with open(downloaded_file, \"w\") as f:\n",
    "        pass\n",
    "\n",
    "# scan channel for videos\n",
    "# live videos\n",
    "os.system(f\"yt-dlp --get-id --skip-download {channel_prefix+channel} > {channel}/videos.txt\")\n",
    "videos = []\n",
    "with open(f\"channel_content_{channel}.txt\", \"r\") as f:\n",
    "    for line in f:\n",
    "        if line.startswith(\"Error\"):\n",
    "            continue\n",
    "        videos.append(line.strip())\n",
    "\n",
    "\n",
    "# compare list of videos to videos already downloaded\n",
    "to_download = list(set(videos) - set(downloaded))\n",
    "    "
   ]
  },
  {
   "cell_type": "code",
   "execution_count": 4,
   "metadata": {},
   "outputs": [
    {
     "name": "stdout",
     "output_type": "stream",
     "text": [
      "Downloading J2I6Wss9WsQ\n",
      "0\n",
      "Downloading QR3yoGDDp_E\n",
      "0\n",
      "Downloading WPzDPmNU4Ks\n",
      "0\n",
      "Downloading LJQxOBO9R5o\n",
      "0\n",
      "Downloading mtPS60PrlRY\n",
      "0\n",
      "Downloading n9V9pF55XOI\n",
      "0\n",
      "Downloading VWY5nDNxgJA\n",
      "0\n",
      "Downloading KXrIrwwU9fE\n",
      "0\n",
      "Downloading 18xCiE-xMXI\n",
      "0\n",
      "Downloading h7RxzeuTUrk\n",
      "0\n",
      "Downloading 3rIax65ailI\n",
      "0\n",
      "Downloading Fc5YPISpWo0\n",
      "0\n",
      "Downloading -PKAkJYvLlk\n",
      "0\n",
      "Downloading W6ljJwjCQj0\n",
      "0\n",
      "Downloading T0Jz9yri2aw\n",
      "0\n",
      "Downloading cqtBFwac9hY\n",
      "0\n",
      "Downloading t8g4TVpCsYU\n",
      "0\n",
      "Downloading GYLEhqMZ2Ro\n",
      "0\n",
      "Downloading D_W1cFW-hL0\n",
      "0\n",
      "Downloading ARjYuEluPH8\n",
      "0\n",
      "Downloading MfQ5SKqCfhk\n",
      "0\n",
      "Downloading ato1JYpgKjg\n",
      "0\n",
      "Downloading t-8BGpSdgcs\n",
      "0\n",
      "Downloading 0pAi_PZPiT0\n",
      "0\n",
      "Downloading FbIAzXp0TNM\n",
      "0\n",
      "Downloading BKzfzKDH4K4\n",
      "0\n",
      "Downloading ItOLT7FqIkU\n",
      "0\n",
      "Downloading f7vCbTsHnT0\n",
      "0\n",
      "Downloading 5Oum6Ad7lgU\n",
      "0\n"
     ]
    }
   ],
   "source": [
    "newly_downloaded = []\n",
    "for video in to_download:\n",
    "    print(f\"Downloading {video}\")\n",
    "    output = os.system(f\"yt-dlp -f bestaudio -P {channel}/{downloaded} {channel_prefix}watch?v={video}\")\n",
    "    if output==0:\n",
    "        with open(downloaded_file, \"a\") as f:\n",
    "            f.write(video + \"\\n\")\n",
    "    else:\n",
    "        print(f\"Error downloading {video}\")"
   ]
  },
  {
   "cell_type": "code",
   "execution_count": 10,
   "metadata": {},
   "outputs": [
    {
     "data": {
      "text/plain": [
       "'whisper \"@StronnyCuttles/downloaded/girlfriend begs you to let her hold it asmr [n9V9pF55XOI].webm\" --device cuda'"
      ]
     },
     "execution_count": 10,
     "metadata": {},
     "output_type": "execute_result"
    }
   ],
   "source": [
    "f\"whisper \\\"{channel}/downloaded/{downloaded_files[0]}\\\" --device cuda\""
   ]
  },
  {
   "cell_type": "code",
   "execution_count": 14,
   "metadata": {},
   "outputs": [],
   "source": [
    "#collect file names in {channel}/downloaded\n",
    "downloaded_files = os.listdir(f\"{channel}/downloaded\")\n",
    "for file in downloaded_files:\n",
    "    if file.endswith(\".webm\"):\n",
    "        result = os.system(f\"whisper \\\"{channel}/downloaded/{file}\\\" --device cuda --output_dir \\\"{channel}/transcripts/\\\"\")\n",
    "        if result==0:\n",
    "            #move file to {channel}/processed\n",
    "            os.rename(f\"{channel}/downloaded/{file}\", f\"{channel}/processed/{file}\")"
   ]
  }
 ],
 "metadata": {
  "kernelspec": {
   "display_name": ".venv",
   "language": "python",
   "name": "python3"
  },
  "language_info": {
   "codemirror_mode": {
    "name": "ipython",
    "version": 3
   },
   "file_extension": ".py",
   "mimetype": "text/x-python",
   "name": "python",
   "nbconvert_exporter": "python",
   "pygments_lexer": "ipython3",
   "version": "3.10.10"
  }
 },
 "nbformat": 4,
 "nbformat_minor": 2
}
