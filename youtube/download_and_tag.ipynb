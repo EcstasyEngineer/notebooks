{
 "cells": [
  {
   "cell_type": "code",
   "execution_count": 1,
   "metadata": {},
   "outputs": [],
   "source": [
    "import os\n",
    "import re\n",
    "import subprocess\n",
    "# name of channel to be scanned\n",
    "channel_prefix = \"https://www.youtube.com/\"\n",
    "channel = \"@StronnyCuttles\"\n",
    "#channel = \"@ShibiCottonbum\"\n",
    "#channel = \"@ImmyBisou\"\n",
    "#channel = \"@IceySnowpaws\"\n",
    "#channel = \"@MercyModiste\"\n",
    "#channel = \"@AzuraDulait\""
   ]
  },
  {
   "cell_type": "code",
   "execution_count": 2,
   "metadata": {},
   "outputs": [],
   "source": [
    "try:   os.mkdir(channel)\n",
    "except:   pass\n",
    "try:   os.mkdir(f\"{channel}/downloaded\")\n",
    "except:   pass\n",
    "try:   os.mkdir(f\"{channel}/processed\")\n",
    "except:   pass\n",
    "try:   os.mkdir(f\"{channel}/transcripts\")\n",
    "except:   pass\n",
    "# file containing keywords\n",
    "keywords_file = \"keywords.txt\"\n",
    "\n",
    "# file containing thematic searches\n",
    "thematic_file = \"thematic.txt\"\n",
    "\n",
    "# scan channel for videos\n",
    "# live videos\n",
    "os.system(f\"yt-dlp --get-id --skip-download {channel_prefix+channel} > {channel}/videos.txt\")\n",
    "videos = []\n",
    "with open(f\"{channel}/videos.txt\", \"r\") as f:\n",
    "    for line in f:\n",
    "        if line.startswith(\"Error\"):\n",
    "            continue\n",
    "        videos.append(line.strip())\n",
    "\n",
    "# look for filenames in {channel}/downloaded for already downloaded videos\n",
    "# the file name contains the video id in the following format:\n",
    "# 【Supermarket Simulator】Definitely not drunk on the job 🐐🍼【VAllure】 [i3rrDSjokF4].webm\n",
    "# where [i3rrDSjokF4] is the video id\n",
    "downloaded = []\n",
    "for file in os.listdir(f\"{channel}/downloaded\"):\n",
    "    if file.endswith(\".webm\"):\n",
    "        m = re.search(r\"\\[(.*?)\\]\", file)\n",
    "        if m:\n",
    "            downloaded.append(m.group(1))\n",
    "            \n",
    "# do the same for transcripts\n",
    "transcripts = []\n",
    "for file in os.listdir(f\"{channel}/transcripts\"):\n",
    "    if file.endswith(\".txt\"):\n",
    "        m = re.search(r\"\\[(.*?)\\]\", file)\n",
    "        if m:\n",
    "            transcripts.append(m.group(1))\n",
    "\n",
    "\n",
    "# compare list of videos to videos already downloaded\n",
    "to_download = list(set(videos) - set(downloaded) - set(transcripts))\n",
    "for download in to_download:\n",
    "    print(f\"{download}\")"
   ]
  },
  {
   "cell_type": "code",
   "execution_count": 3,
   "metadata": {},
   "outputs": [
    {
     "name": "stdout",
     "output_type": "stream",
     "text": [
      "Downloading Rp3BIv9szh0\n",
      "Downloading AlJxvHKxB6s\n",
      "Downloading 1WoJxJcgWfw\n",
      "Downloading 6x1Pwqmhdhk\n",
      "Downloading cqtBFwac9hY\n",
      "Downloading S_Q9PvOzBrA\n",
      "Downloading C5M2nZUlFOI\n",
      "Downloading doQ-m-JaOWI\n",
      "Downloading zhLGqcIL4yk\n",
      "Downloading AiLh5KvhIt8\n",
      "Downloading Ittk3Ou_R6w\n",
      "Downloading vpjDr5Uy4u4\n",
      "Downloading pAZ6MQ5NNG8\n",
      "Downloading tKQ7Zc0xElM\n",
      "Downloading dI3Qgiy9wLY\n",
      "Downloading -lFoCKT-HTQ\n",
      "Downloading B4yGQsVzcNE\n",
      "Downloading Nd8iJAiB9NQ\n",
      "Downloading h7RxzeuTUrk\n",
      "Downloading SkegmwvMD4I\n",
      "Downloading TezvXw9NcmA\n",
      "Downloading 4IBZgfeJd7M\n",
      "Downloading kJi0-CkRM04\n",
      "Downloading Lo0bzApA-mI\n",
      "Error downloading Lo0bzApA-mI\n",
      "Downloading ha_2ykbtSUk\n",
      "Downloading zzRsF_sd1_4\n"
     ]
    }
   ],
   "source": [
    "newly_downloaded = []\n",
    "for video in to_download:\n",
    "    print(f\"Downloading {video}\")\n",
    "    output = os.system(f\"yt-dlp -f bestaudio -P {channel}/downloaded {channel_prefix}watch?v={video}\")\n",
    "    if output!=0:\n",
    "        print(f\"Error downloading {video}\")"
   ]
  },
  {
   "cell_type": "code",
   "execution_count": 6,
   "metadata": {},
   "outputs": [
    {
     "name": "stdout",
     "output_type": "stream",
     "text": [
      "Error moving Rambling ASMR with lots of different triggers!~ [1k sub special!] [cqtBFwac9hY].webm to @StronnyCuttles/processed\n",
      "Error moving 【ASMR】Can this Cuttlefish [REDACTED] you？ 🦑🛐【VAllure】 [h7RxzeuTUrk].webm to @StronnyCuttles/processed\n"
     ]
    }
   ],
   "source": [
    "#collect file names in {channel}/downloaded\n",
    "downloaded_files = os.listdir(f\"{channel}/downloaded\")\n",
    "for file in downloaded_files:\n",
    "    if file.endswith(\".webm\") or file.endswith(\".m4a\"):\n",
    "        #result = os.system(f\"whisper \\\"{channel}/downloaded/{file}\\\" --device cuda --output_dir --language English --model large-v3 \\\"{channel}/transcripts/\\\"\")\n",
    "        result = os.system(f\"whisper \\\"{channel}/downloaded/{file}\\\" --device cuda --language English --output_dir \\\"{channel}/transcripts/\\\"\")\n",
    "        if result==0:\n",
    "            #move file to {channel}/processed\n",
    "            try:\n",
    "                os.rename(f\"{channel}/downloaded/{file}\", f\"{channel}/processed/{file}\")\n",
    "            except:\n",
    "                print(f\"Error moving {file} to {channel}/processed\")"
   ]
  },
  {
   "cell_type": "code",
   "execution_count": null,
   "metadata": {},
   "outputs": [],
   "source": []
  }
 ],
 "metadata": {
  "kernelspec": {
   "display_name": ".venv",
   "language": "python",
   "name": "python3"
  },
  "language_info": {
   "codemirror_mode": {
    "name": "ipython",
    "version": 3
   },
   "file_extension": ".py",
   "mimetype": "text/x-python",
   "name": "python",
   "nbconvert_exporter": "python",
   "pygments_lexer": "ipython3",
   "version": "3.10.10"
  }
 },
 "nbformat": 4,
 "nbformat_minor": 2
}
