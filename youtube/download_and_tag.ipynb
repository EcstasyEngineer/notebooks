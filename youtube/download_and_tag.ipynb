{
 "cells": [
  {
   "cell_type": "code",
   "execution_count": 1,
   "metadata": {},
   "outputs": [],
   "source": [
    "import os\n",
    "import re\n",
    "import subprocess\n",
    "# name of channel to be scanned\n",
    "channel_prefix = \"https://www.youtube.com/\"\n",
    "channel = \"@StronnyCuttles\"\n",
    "#channel = \"@ShibiCottonbum\"\n",
    "#channel = \"@ImmyBisou\"\n",
    "#channel = \"@IceySnowpaws\"\n",
    "#channel = \"@MercyModiste\"\n",
    "#channel = \"@AzuraDulait\""
   ]
  },
  {
   "cell_type": "code",
   "execution_count": 2,
   "metadata": {},
   "outputs": [
    {
     "name": "stdout",
     "output_type": "stream",
     "text": [
      "h7RxzeuTUrk\n",
      "aFttYk8rGN4\n",
      "Tydd2TwQKes\n",
      "AiqIHq74hGk\n",
      "y57y6sDhUZA\n",
      "2t9uBYvO2kM\n",
      "Lo0bzApA-mI\n",
      "-qlXrLLQkzo\n",
      "Mh91eB_zf3I\n",
      "cNZoxeYDBrM\n",
      "G0-5RfSSUP4\n",
      "ySbug7LOJvc\n",
      "eHacBfPGqGk\n",
      "X3eS7c7bLBs\n",
      "6y0sq0vGBz8\n",
      "l6e818-vgg8\n",
      "J7YwGiY6z2g\n",
      "lW72sUi_yGM\n",
      "IjI_vbw789k\n",
      "jNsADJMHcH0\n",
      "cqtBFwac9hY\n",
      "IB39lKeehAQ\n",
      "5a0q3yr68IU\n",
      "tUd0tNFVvT4\n",
      "NoRekuJOL_4\n",
      "J1yWMGR95r4\n",
      "KjCx8ZxanXo\n",
      "C5M2nZUlFOI\n",
      "OqUn_IWJLbU\n",
      "g_3b5GH7dUw\n",
      "9NnBsfrL6IQ\n",
      "A-5r9T4hKwA\n",
      "Kn5zueFswok\n",
      "vpE9V6Yq5mk\n",
      "N5XlaAafWhw\n",
      "KS_or6k8Fgs\n"
     ]
    }
   ],
   "source": [
    "try:   os.mkdir(channel)\n",
    "except:   pass\n",
    "try:   os.mkdir(f\"{channel}/downloaded\")\n",
    "except:   pass\n",
    "try:   os.mkdir(f\"{channel}/processed\")\n",
    "except:   pass\n",
    "try:   os.mkdir(f\"{channel}/transcripts\")\n",
    "except:   pass\n",
    "# file containing keywords\n",
    "keywords_file = \"keywords.txt\"\n",
    "\n",
    "# file containing thematic searches\n",
    "thematic_file = \"thematic.txt\"\n",
    "\n",
    "# scan channel for videos\n",
    "# live videos\n",
    "os.system(f\"yt-dlp --get-id --skip-download {channel_prefix+channel} > {channel}/videos.txt\")\n",
    "videos = []\n",
    "with open(f\"{channel}/videos.txt\", \"r\") as f:\n",
    "    for line in f:\n",
    "        if line.startswith(\"Error\"):\n",
    "            continue\n",
    "        videos.append(line.strip())\n",
    "\n",
    "# look for filenames in {channel}/downloaded for already downloaded videos\n",
    "# the file name contains the video id in the following format:\n",
    "# 【Supermarket Simulator】Definitely not drunk on the job 🐐🍼【VAllure】 [i3rrDSjokF4].webm\n",
    "# where [i3rrDSjokF4] is the video id\n",
    "downloaded = []\n",
    "for file in os.listdir(f\"{channel}/downloaded\"):\n",
    "    if file.endswith(\".webm\"):\n",
    "        m = re.search(r\"\\[(.*?)\\]\", file)\n",
    "        if m:\n",
    "            downloaded.append(m.group(1))\n",
    "            \n",
    "# do the same for transcripts\n",
    "transcripts = []\n",
    "for file in os.listdir(f\"{channel}/transcripts\"):\n",
    "    if file.endswith(\".txt\"):\n",
    "        m = re.search(r\"\\[(.*?)\\]\", file)\n",
    "        if m:\n",
    "            transcripts.append(m.group(1))\n",
    "\n",
    "\n",
    "# compare list of videos to videos already downloaded\n",
    "to_download = list(set(videos) - set(downloaded) - set(transcripts))\n",
    "for download in to_download:\n",
    "    print(f\"{download}\")"
   ]
  },
  {
   "cell_type": "code",
   "execution_count": 8,
   "metadata": {},
   "outputs": [
    {
     "name": "stdout",
     "output_type": "stream",
     "text": [
      "Downloading h7RxzeuTUrk\n",
      "Downloading aFttYk8rGN4\n",
      "Downloading Tydd2TwQKes\n",
      "Downloading AiqIHq74hGk\n",
      "Downloading y57y6sDhUZA\n",
      "Downloading 2t9uBYvO2kM\n",
      "Downloading Lo0bzApA-mI\n",
      "Downloading -qlXrLLQkzo\n",
      "Downloading Mh91eB_zf3I\n",
      "Downloading cNZoxeYDBrM\n",
      "Downloading G0-5RfSSUP4\n",
      "Downloading ySbug7LOJvc\n",
      "Downloading eHacBfPGqGk\n",
      "Downloading X3eS7c7bLBs\n",
      "Downloading 6y0sq0vGBz8\n",
      "Downloading l6e818-vgg8\n",
      "Downloading J7YwGiY6z2g\n",
      "Downloading lW72sUi_yGM\n",
      "Downloading IjI_vbw789k\n",
      "Downloading jNsADJMHcH0\n",
      "Downloading cqtBFwac9hY\n",
      "Downloading IB39lKeehAQ\n",
      "Downloading 5a0q3yr68IU\n",
      "Downloading tUd0tNFVvT4\n",
      "Downloading NoRekuJOL_4\n",
      "Downloading J1yWMGR95r4\n",
      "Downloading KjCx8ZxanXo\n",
      "Downloading C5M2nZUlFOI\n",
      "Downloading OqUn_IWJLbU\n",
      "Downloading g_3b5GH7dUw\n",
      "Downloading 9NnBsfrL6IQ\n",
      "Downloading A-5r9T4hKwA\n",
      "Downloading Kn5zueFswok\n",
      "Downloading vpE9V6Yq5mk\n",
      "Downloading N5XlaAafWhw\n",
      "Downloading KS_or6k8Fgs\n"
     ]
    }
   ],
   "source": [
    "newly_downloaded = []\n",
    "for video in to_download:\n",
    "    print(f\"Downloading {video}\")\n",
    "    output = os.system(f\"yt-dlp -f bestaudio -P {channel}/downloaded {channel_prefix}watch?v={video}\")\n",
    "    if output!=0:\n",
    "        print(f\"Error downloading {video}\")"
   ]
  },
  {
   "cell_type": "code",
   "execution_count": 9,
   "metadata": {},
   "outputs": [
    {
     "name": "stdout",
     "output_type": "stream",
     "text": [
      "Error moving Rambling ASMR with lots of different triggers!~ [1k sub special!] [cqtBFwac9hY].webm to @StronnyCuttles/processed\n",
      "Error moving 【ASMR】Can this Cuttlefish [REDACTED] you？ 🦑🛐【VAllure】 [h7RxzeuTUrk].webm to @StronnyCuttles/processed\n"
     ]
    }
   ],
   "source": [
    "#collect file names in {channel}/downloaded\n",
    "downloaded_files = os.listdir(f\"{channel}/downloaded\")\n",
    "for file in downloaded_files:\n",
    "    if file.endswith(\".webm\") or file.endswith(\".m4a\"):\n",
    "        #result = os.system(f\"whisper \\\"{channel}/downloaded/{file}\\\" --device cuda --output_dir --language English --model large-v3 \\\"{channel}/transcripts/\\\"\")\n",
    "        result = os.system(f\"whisper \\\"{channel}/downloaded/{file}\\\" --device cuda --language English --output_dir \\\"{channel}/transcripts/\\\"\")\n",
    "        if result==0:\n",
    "            #move file to {channel}/processed\n",
    "            try:\n",
    "                os.rename(f\"{channel}/downloaded/{file}\", f\"{channel}/processed/{file}\")\n",
    "            except:\n",
    "                print(f\"Error moving {file} to {channel}/processed\")"
   ]
  },
  {
   "cell_type": "code",
   "execution_count": null,
   "metadata": {},
   "outputs": [],
   "source": []
  }
 ],
 "metadata": {
  "kernelspec": {
   "display_name": ".venv",
   "language": "python",
   "name": "python3"
  },
  "language_info": {
   "codemirror_mode": {
    "name": "ipython",
    "version": 3
   },
   "file_extension": ".py",
   "mimetype": "text/x-python",
   "name": "python",
   "nbconvert_exporter": "python",
   "pygments_lexer": "ipython3",
   "version": "3.10.10"
  }
 },
 "nbformat": 4,
 "nbformat_minor": 2
}
