{
 "cells": [
  {
   "cell_type": "code",
   "execution_count": 15,
   "metadata": {},
   "outputs": [],
   "source": [
    "import os\n",
    "import re\n",
    "import gzip\n",
    "# name of channel to be scanned\n",
    "channel_prefix = \"https://www.youtube.com/\"\n",
    "#channel = \"@StronnyCuttles\"\n",
    "#channel = \"@ShibiCottonbum\"\n",
    "#channel = \"@ImmyBisou\"\n",
    "#channel = \"@IceySnowpaws\"\n",
    "channel = \"@MercyModiste\"\n",
    "#channel = \"@AzuraDulait\""
   ]
  },
  {
   "cell_type": "code",
   "execution_count": 16,
   "metadata": {},
   "outputs": [
    {
     "name": "stdout",
     "output_type": "stream",
     "text": [
      "mfVGvc4TiH4\n",
      "jqTlyUuhBdg\n",
      "pqJAVP3GtME\n",
      "M4V8Z0BNs8A\n",
      "mzJLAzhiRrc\n",
      "hj3ER7KqxRc\n",
      "He7QdX1OfLo\n",
      "JKyGB6fMe-E\n",
      "cj1SeOVoDTI\n",
      "saTpuYujJZ8\n",
      "qjf8kgi32OQ\n",
      "7VBuipv8MnY\n",
      "Q6OQamaObzM\n",
      "kmOnam8Harc\n",
      "_JbpK9IK4-g\n",
      "GMDfit7hKkQ\n",
      "0S6E5SmpaRo\n",
      "T6wSocRSzRA\n",
      "KBHgjQWZ8vE\n",
      "RyN0XJRzAuU\n",
      "eOxqiKKT3DA\n",
      "9drpff6aOrw\n",
      "4d6G1SFCUPs\n",
      "pSyfBb0dWRU\n",
      "TcvPUgG8wuw\n",
      "QU1VP8bYGx0\n"
     ]
    }
   ],
   "source": [
    "try:   os.mkdir(channel)\n",
    "except:   pass\n",
    "try:   os.mkdir(f\"{channel}/downloaded\")\n",
    "except:   pass\n",
    "try:   os.mkdir(f\"{channel}/processed\")\n",
    "except:   pass\n",
    "try:   os.mkdir(f\"{channel}/transcripts\")\n",
    "except:   pass\n",
    "# file containing keywords\n",
    "keywords_file = \"keywords.txt\"\n",
    "\n",
    "# file containing thematic searches\n",
    "thematic_file = \"thematic.txt\"\n",
    "\n",
    "# scan channel for videos\n",
    "# live videos\n",
    "os.system(f\"yt-dlp --get-id --skip-download {channel_prefix+channel} > {channel}/videos.txt\")\n",
    "videos = []\n",
    "with open(f\"{channel}/videos.txt\", \"r\") as f:\n",
    "    for line in f:\n",
    "        if line.startswith(\"Error\"):\n",
    "            continue\n",
    "        videos.append(line.strip())\n",
    "\n",
    "# look for filenames in {channel}/downloaded for already downloaded videos\n",
    "# the file name contains the video id in the following format:\n",
    "# 【Supermarket Simulator】Definitely not drunk on the job 🐐🍼【VAllure】 [i3rrDSjokF4].webm\n",
    "# where [i3rrDSjokF4] is the video id\n",
    "downloaded = []\n",
    "for file in os.listdir(f\"{channel}/downloaded\"):\n",
    "    if file.endswith(\".webm\"):\n",
    "        m = re.search(r\"\\[(.*?)\\]\", file)\n",
    "        if m:\n",
    "            downloaded.append(m.group(1))\n",
    "            \n",
    "# do the same for transcripts\n",
    "transcripts = []\n",
    "for file in os.listdir(f\"{channel}/transcripts\"):\n",
    "    if file.endswith(\".srt\"):\n",
    "        m = re.search(r\"\\[([^\\[\\]]+)\\](?!.*\\[)\", file)\n",
    "        if m:\n",
    "            transcripts.append(m.group(1))\n",
    "\n",
    "\n",
    "# compare list of videos to videos already downloaded\n",
    "to_download = list(set(videos) - set(downloaded) - set(transcripts))\n",
    "for download in to_download:\n",
    "    print(f\"{download}\")"
   ]
  },
  {
   "cell_type": "code",
   "execution_count": 17,
   "metadata": {},
   "outputs": [
    {
     "name": "stdout",
     "output_type": "stream",
     "text": [
      "Downloading mfVGvc4TiH4\n",
      "Downloading jqTlyUuhBdg\n",
      "Downloading pqJAVP3GtME\n",
      "Downloading M4V8Z0BNs8A\n",
      "Downloading mzJLAzhiRrc\n",
      "Downloading hj3ER7KqxRc\n",
      "Downloading He7QdX1OfLo\n",
      "Downloading JKyGB6fMe-E\n",
      "Downloading cj1SeOVoDTI\n",
      "Downloading saTpuYujJZ8\n",
      "Downloading qjf8kgi32OQ\n",
      "Downloading 7VBuipv8MnY\n",
      "Downloading Q6OQamaObzM\n",
      "Downloading kmOnam8Harc\n",
      "Downloading _JbpK9IK4-g\n",
      "Downloading GMDfit7hKkQ\n",
      "Downloading 0S6E5SmpaRo\n",
      "Downloading T6wSocRSzRA\n",
      "Downloading KBHgjQWZ8vE\n",
      "Downloading RyN0XJRzAuU\n",
      "Downloading eOxqiKKT3DA\n",
      "Downloading 9drpff6aOrw\n",
      "Downloading 4d6G1SFCUPs\n",
      "Downloading pSyfBb0dWRU\n",
      "Downloading TcvPUgG8wuw\n",
      "Downloading QU1VP8bYGx0\n"
     ]
    }
   ],
   "source": [
    "newly_downloaded = []\n",
    "for video in to_download:\n",
    "    print(f\"Downloading {video}\")\n",
    "    output = os.system(f\"yt-dlp -f bestaudio -P {channel}/downloaded {channel_prefix}watch?v={video}\")\n",
    "    if output!=0:\n",
    "        print(f\"Error downloading {video}\")"
   ]
  },
  {
   "cell_type": "code",
   "execution_count": 18,
   "metadata": {},
   "outputs": [],
   "source": [
    "#collect file names in {channel}/downloaded\n",
    "downloaded_files = os.listdir(f\"{channel}/downloaded\")\n",
    "for file in downloaded_files:\n",
    "    if file.endswith(\".webm\") or file.endswith(\".m4a\"):\n",
    "        #result = os.system(f\"whisper \\\"{channel}/downloaded/{file}\\\" --device cuda --output_dir --language English --model large-v3 \\\"{channel}/transcripts/\\\"\")\n",
    "        result = os.system(f\"whisper \\\"{channel}/downloaded/{file}\\\" --device cuda --language English --output_dir \\\"{channel}/transcripts/\\\"\")\n",
    "        if result==0:\n",
    "            #move file to {channel}/processed\n",
    "            try:\n",
    "                os.rename(f\"{channel}/downloaded/{file}\", f\"{channel}/processed/{file}\")\n",
    "            except:\n",
    "                print(f\"Error moving {file} to {channel}/processed\")"
   ]
  },
  {
   "cell_type": "code",
   "execution_count": 19,
   "metadata": {},
   "outputs": [],
   "source": [
    "#remove .tsv, .txt, .vtt files, (keeping .srt and .json), and compress json files to .json.gz in {channel}/transcripts\n",
    "transcript_files = os.listdir(f\"{channel}/transcripts\")\n",
    "for file in transcript_files:\n",
    "    if file.endswith(\".tsv\") or file.endswith(\".txt\") or file.endswith(\".vtt\"):\n",
    "        try:\n",
    "            os.remove(f\"{channel}/transcripts/{file}\")\n",
    "        except:\n",
    "            print(f\"Error removing {file}\")\n",
    "    if file.endswith(\".json\"):\n",
    "        with open(f\"{channel}/transcripts/{file}\", \"rb\") as f:\n",
    "            with gzip.open(f\"{channel}/transcripts/{file}.gz\", \"wb\") as f_out:\n",
    "                f_out.writelines(f)\n",
    "        #remove original json file\n",
    "        try:\n",
    "            os.remove(f\"{channel}/transcripts/{file}\")\n",
    "        except:\n",
    "            print(f\"Error removing {file}\")\n",
    "        "
   ]
  }
 ],
 "metadata": {
  "kernelspec": {
   "display_name": ".venv",
   "language": "python",
   "name": "python3"
  },
  "language_info": {
   "codemirror_mode": {
    "name": "ipython",
    "version": 3
   },
   "file_extension": ".py",
   "mimetype": "text/x-python",
   "name": "python",
   "nbconvert_exporter": "python",
   "pygments_lexer": "ipython3",
   "version": "3.10.10"
  }
 },
 "nbformat": 4,
 "nbformat_minor": 2
}
