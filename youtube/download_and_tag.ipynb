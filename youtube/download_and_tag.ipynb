{
 "cells": [
  {
   "cell_type": "code",
   "execution_count": null,
   "metadata": {},
   "outputs": [],
   "source": [
    "import os\n",
    "import re\n",
    "\n",
    "# name of channel to be scanned\n",
    "channel = \"https://www.youtube.com/@StronnyCuttles\"\n",
    "\n",
    "# file containing keywords\n",
    "keywords_file = \"keywords.txt\"\n",
    "\n",
    "# file containing thematic searches\n",
    "thematic_file = \"thematic.txt\"\n",
    "\n",
    "# scan channel for videos\n",
    "os.system(f\"youtube-dl --get-id --ignore-errors {channel} > channel.txt\")\n",
    "with open(\"channel.txt\", \"r\") as f:\n",
    "    videos = f.read().splitlines()\n",
    "\n",
    "# compare list of videos to videos already downloaded\n",
    "os\n"
   ]
  }
 ],
 "metadata": {
  "language_info": {
   "name": "python"
  }
 },
 "nbformat": 4,
 "nbformat_minor": 2
}
