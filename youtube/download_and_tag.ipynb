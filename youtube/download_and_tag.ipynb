{
 "cells": [
  {
   "cell_type": "code",
   "execution_count": 2,
   "metadata": {},
   "outputs": [],
   "source": [
    "import os\n",
    "import re\n",
    "import subprocess\n",
    "# name of channel to be scanned\n",
    "channel_prefix = \"https://www.youtube.com/\"\n",
    "#channel = \"@StronnyCuttles\"\n",
    "#channel = \"@ShibiCottonbum\"\n",
    "#channel = \"@ImmyBisou\"\n",
    "#channel = \"@IceySnowpaws\"\n",
    "#channel = \"@MercyModiste\"\n",
    "channel = \"@AzuraDulait\""
   ]
  },
  {
   "cell_type": "code",
   "execution_count": 34,
   "metadata": {},
   "outputs": [],
   "source": [
    "try:\n",
    "    os.mkdir(channel)\n",
    "    os.mkdir(f\"{channel}/downloaded\")\n",
    "    os.mkdir(f\"{channel}/processed\")\n",
    "    os.mkdir(f\"{channel}/transcripts\")\n",
    "except FileExistsError:\n",
    "    pass\n",
    "\n",
    "\n",
    "# file containing keywords\n",
    "keywords_file = \"keywords.txt\"\n",
    "\n",
    "# file containing thematic searches\n",
    "thematic_file = \"thematic.txt\"\n",
    "\n",
    "# downloaded = []\n",
    "# downloaded_file = f\"downloaded_{channel}.txt\"\n",
    "# if os.path.exists(downloaded_file):\n",
    "#     with open(downloaded_file, \"r\") as f:\n",
    "#         downloaded = f.read().splitlines()\n",
    "# else:\n",
    "#     with open(downloaded_file, \"w\") as f:\n",
    "#         pass\n",
    "\n",
    "# scan channel for videos\n",
    "# live videos\n",
    "os.system(f\"yt-dlp --get-id --skip-download {channel_prefix+channel} > {channel}/videos.txt\")\n",
    "videos = []\n",
    "with open(f\"{channel}/videos.txt\", \"r\") as f:\n",
    "    for line in f:\n",
    "        if line.startswith(\"Error\"):\n",
    "            continue\n",
    "        videos.append(line.strip())\n",
    "\n",
    "\n",
    "# compare list of videos to videos already downloaded\n",
    "to_download = list(set(videos) - set(downloaded))\n",
    "    "
   ]
  },
  {
   "cell_type": "code",
   "execution_count": 35,
   "metadata": {},
   "outputs": [
    {
     "name": "stdout",
     "output_type": "stream",
     "text": [
      "Downloading uyfBHhlGiRk\n",
      "Downloading RiAZ9q-QWpc\n",
      "Downloading i3rrDSjokF4\n",
      "Downloading urVgSGxbWZo\n",
      "Downloading E6qZTRf56Iw\n",
      "Downloading ts6Cy_l_pfQ\n",
      "Downloading tNm5I16S3VY\n",
      "Downloading bHhmVVX9KHQ\n",
      "Downloading vgBLeCqPN2E\n",
      "Downloading 4r2SLRQ5EMQ\n",
      "Downloading 8B3wf8DtmyY\n",
      "Downloading 5SOdO7Dmkxk\n",
      "Downloading bdNLUwSCgPk\n",
      "Downloading F1xrppmFbvU\n",
      "Downloading 5Oi_i-0ReCc\n",
      "Downloading VlpyN3kB_X0\n",
      "Downloading kjxmKlmrvw0\n",
      "Downloading M4IVC_uwLSw\n",
      "Downloading tw9fkPlvU2M\n",
      "Downloading 8h1I9yXyD5M\n",
      "Downloading vmk8X94zleE\n",
      "Downloading Fzlt3AAK5mc\n",
      "Downloading -1cI8U9Scbc\n",
      "Downloading Qf_BUAFeGgw\n",
      "Downloading Uw_jZpSMfBc\n",
      "Downloading 7NBDcrNUFhI\n",
      "Downloading q9vHZlLfTZs\n"
     ]
    }
   ],
   "source": [
    "newly_downloaded = []\n",
    "for video in to_download:\n",
    "    print(f\"Downloading {video}\")\n",
    "    output = os.system(f\"yt-dlp -f bestaudio -P {channel}/downloaded {channel_prefix}watch?v={video}\")\n",
    "    if output==0:\n",
    "        with open(downloaded_file, \"a\") as f:\n",
    "            f.write(video + \"\\n\")\n",
    "    else:\n",
    "        print(f\"Error downloading {video}\")"
   ]
  },
  {
   "cell_type": "code",
   "execution_count": 3,
   "metadata": {},
   "outputs": [],
   "source": [
    "#collect file names in {channel}/downloaded\n",
    "downloaded_files = os.listdir(f\"{channel}/downloaded\")\n",
    "for file in downloaded_files:\n",
    "    if file.endswith(\".webm\"):\n",
    "        result = os.system(f\"whisper \\\"{channel}/downloaded/{file}\\\" --device cuda --output_dir \\\"{channel}/transcripts/\\\"\")\n",
    "        if result==0:\n",
    "            #move file to {channel}/processed\n",
    "            os.rename(f\"{channel}/downloaded/{file}\", f\"{channel}/processed/{file}\")"
   ]
  }
 ],
 "metadata": {
  "kernelspec": {
   "display_name": ".venv",
   "language": "python",
   "name": "python3"
  },
  "language_info": {
   "codemirror_mode": {
    "name": "ipython",
    "version": 3
   },
   "file_extension": ".py",
   "mimetype": "text/x-python",
   "name": "python",
   "nbconvert_exporter": "python",
   "pygments_lexer": "ipython3",
   "version": "3.10.10"
  }
 },
 "nbformat": 4,
 "nbformat_minor": 2
}
