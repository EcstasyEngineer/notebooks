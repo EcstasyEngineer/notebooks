{
 "cells": [
  {
   "cell_type": "code",
   "execution_count": 1,
   "metadata": {},
   "outputs": [],
   "source": [
    "import os\n",
    "import re\n",
    "import gzip\n",
    "# name of channel to be scanned\n",
    "channel_prefix = \"https://www.youtube.com/\"\n",
    "#channel = \"@StronnyCuttles\"\n",
    "channel = \"@ShibiCottonbum\"\n",
    "#channel = \"@ImmyBisou\"\n",
    "#channel = \"@IceySnowpaws\"\n",
    "#channel = \"@MercyModiste\"\n",
    "#channel = \"@AzuraDulait\""
   ]
  },
  {
   "cell_type": "code",
   "execution_count": 9,
   "metadata": {},
   "outputs": [
    {
     "name": "stdout",
     "output_type": "stream",
     "text": [
      "XHTQNnq_9Ak\n",
      "d-VmQRibZoI\n",
      "YMSUUWZ5sUI\n",
      "GMU1FedXvJU\n",
      "G_PIICieI_Y\n",
      "yYTQMWZVZgs\n",
      "uCPlqZ2dbgQ\n",
      "nflOxUBlafE\n",
      "nskqLTOxUOA\n",
      "NGZB9YZq20s\n",
      "uqLbMyxFUzY\n",
      "i2ACzDlI1ds\n",
      "iOCjBHb4t50\n"
     ]
    }
   ],
   "source": [
    "try:   os.mkdir(channel)\n",
    "except:   pass\n",
    "try:   os.mkdir(f\"{channel}/downloaded\")\n",
    "except:   pass\n",
    "try:   os.mkdir(f\"{channel}/processed\")\n",
    "except:   pass\n",
    "try:   os.mkdir(f\"{channel}/transcripts\")\n",
    "except:   pass\n",
    "# file containing keywords\n",
    "keywords_file = \"keywords.txt\"\n",
    "\n",
    "# file containing thematic searches\n",
    "thematic_file = \"thematic.txt\"\n",
    "\n",
    "# scan channel for videos\n",
    "# live videos\n",
    "os.system(f\"yt-dlp --get-id --skip-download {channel_prefix+channel} > {channel}/videos.txt\")\n",
    "videos = []\n",
    "with open(f\"{channel}/videos.txt\", \"r\") as f:\n",
    "    for line in f:\n",
    "        if line.startswith(\"Error\"):\n",
    "            continue\n",
    "        videos.append(line.strip())\n",
    "\n",
    "# look for filenames in {channel}/downloaded for already downloaded videos\n",
    "# the file name contains the video id in the following format:\n",
    "# 【Supermarket Simulator】Definitely not drunk on the job 🐐🍼【VAllure】 [i3rrDSjokF4].webm\n",
    "# where [i3rrDSjokF4] is the video id\n",
    "downloaded = []\n",
    "for file in os.listdir(f\"{channel}/downloaded\"):\n",
    "    if file.endswith(\".webm\"):\n",
    "        m = re.search(r\"\\[(.*?)\\]\", file)\n",
    "        if m:\n",
    "            downloaded.append(m.group(1))\n",
    "            \n",
    "# do the same for transcripts\n",
    "transcripts = []\n",
    "for file in os.listdir(f\"{channel}/transcripts\"):\n",
    "    if file.endswith(\".srt\"):\n",
    "        m = re.search(r\"\\[([^\\[\\]]+)\\](?!.*\\[)\", file)\n",
    "        if m:\n",
    "            transcripts.append(m.group(1))\n",
    "\n",
    "\n",
    "# compare list of videos to videos already downloaded\n",
    "to_download = list(set(videos) - set(downloaded) - set(transcripts))\n",
    "for download in to_download:\n",
    "    print(f\"{download}\")"
   ]
  },
  {
   "cell_type": "code",
   "execution_count": 10,
   "metadata": {},
   "outputs": [
    {
     "name": "stdout",
     "output_type": "stream",
     "text": [
      "Downloading XHTQNnq_9Ak\n",
      "Downloading d-VmQRibZoI\n",
      "Downloading YMSUUWZ5sUI\n",
      "Downloading GMU1FedXvJU\n",
      "Downloading G_PIICieI_Y\n",
      "Downloading yYTQMWZVZgs\n",
      "Downloading uCPlqZ2dbgQ\n",
      "Downloading nflOxUBlafE\n",
      "Downloading nskqLTOxUOA\n",
      "Downloading NGZB9YZq20s\n",
      "Downloading uqLbMyxFUzY\n",
      "Downloading i2ACzDlI1ds\n",
      "Downloading iOCjBHb4t50\n",
      "Error downloading iOCjBHb4t50\n"
     ]
    }
   ],
   "source": [
    "newly_downloaded = []\n",
    "for video in to_download:\n",
    "    print(f\"Downloading {video}\")\n",
    "    output = os.system(f\"yt-dlp -f bestaudio -P {channel}/downloaded {channel_prefix}watch?v={video}\")\n",
    "    if output!=0:\n",
    "        print(f\"Error downloading {video}\")"
   ]
  },
  {
   "cell_type": "code",
   "execution_count": 2,
   "metadata": {},
   "outputs": [],
   "source": [
    "#collect file names in {channel}/downloaded\n",
    "downloaded_files = os.listdir(f\"{channel}/downloaded\")\n",
    "for file in downloaded_files:\n",
    "    if file.endswith(\".webm\") or file.endswith(\".m4a\"):\n",
    "        #result = os.system(f\"whisper \\\"{channel}/downloaded/{file}\\\" --device cuda --output_dir --language English --model large-v3 \\\"{channel}/transcripts/\\\"\")\n",
    "        result = os.system(f\"whisper \\\"{channel}/downloaded/{file}\\\" --device cuda --language English --output_dir \\\"{channel}/transcripts/\\\"\")\n",
    "        if result==0:\n",
    "            #move file to {channel}/processed\n",
    "            try:\n",
    "                os.rename(f\"{channel}/downloaded/{file}\", f\"{channel}/processed/{file}\")\n",
    "            except:\n",
    "                print(f\"Error moving {file} to {channel}/processed\")"
   ]
  },
  {
   "cell_type": "code",
   "execution_count": 3,
   "metadata": {},
   "outputs": [],
   "source": [
    "#remove .tsv, .txt, .vtt files, (keeping .srt and .json), and compress json files to .json.gz in {channel}/transcripts\n",
    "transcript_files = os.listdir(f\"{channel}/transcripts\")\n",
    "for file in transcript_files:\n",
    "    if file.endswith(\".tsv\") or file.endswith(\".txt\") or file.endswith(\".vtt\"):\n",
    "        try:\n",
    "            os.remove(f\"{channel}/transcripts/{file}\")\n",
    "        except:\n",
    "            print(f\"Error removing {file}\")\n",
    "    if file.endswith(\".json\"):\n",
    "        with open(f\"{channel}/transcripts/{file}\", \"rb\") as f:\n",
    "            with gzip.open(f\"{channel}/transcripts/{file}.gz\", \"wb\") as f_out:\n",
    "                f_out.writelines(f)\n",
    "        #remove original json file\n",
    "        try:\n",
    "            os.remove(f\"{channel}/transcripts/{file}\")\n",
    "        except:\n",
    "            print(f\"Error removing {file}\")\n",
    "        "
   ]
  }
 ],
 "metadata": {
  "kernelspec": {
   "display_name": ".venv",
   "language": "python",
   "name": "python3"
  },
  "language_info": {
   "codemirror_mode": {
    "name": "ipython",
    "version": 3
   },
   "file_extension": ".py",
   "mimetype": "text/x-python",
   "name": "python",
   "nbconvert_exporter": "python",
   "pygments_lexer": "ipython3",
   "version": "3.10.10"
  }
 },
 "nbformat": 4,
 "nbformat_minor": 2
}
